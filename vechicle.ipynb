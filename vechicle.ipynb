{
 "cells": [
  {
   "cell_type": "markdown",
   "metadata": {},
   "source": [
    "# car detection"
   ]
  },
  {
   "cell_type": "code",
   "execution_count": 1,
   "metadata": {
    "collapsed": false
   },
   "outputs": [
    {
     "ename": "ModuleNotFoundError",
     "evalue": "No module named 'cv2'",
     "output_type": "error",
     "traceback": [
      "\u001b[0;31m---------------------------------------------------------------------------\u001b[0m",
      "\u001b[0;31mModuleNotFoundError\u001b[0m                       Traceback (most recent call last)",
      "\u001b[0;32m<ipython-input-1-7b45a1481ed5>\u001b[0m in \u001b[0;36m<module>\u001b[0;34m()\u001b[0m\n\u001b[0;32m----> 1\u001b[0;31m \u001b[1;32mimport\u001b[0m \u001b[0mcv2\u001b[0m\u001b[1;33m\u001b[0m\u001b[0m\n\u001b[0m\u001b[1;32m      2\u001b[0m \u001b[1;32mimport\u001b[0m \u001b[0mmatplotlib\u001b[0m\u001b[1;33m.\u001b[0m\u001b[0mpyplot\u001b[0m \u001b[1;32mas\u001b[0m \u001b[0mplt\u001b[0m\u001b[1;33m\u001b[0m\u001b[0m\n",
      "\u001b[0;31mModuleNotFoundError\u001b[0m: No module named 'cv2'"
     ]
    }
   ],
   "source": [
    "import cv2\n",
    "%matplotlib inline \n",
    "from matplotlib import pyplot as plt\n",
    "import numpy as np"
   ]
  },
  {
   "cell_type": "code",
   "execution_count": null,
   "metadata": {
    "collapsed": true
   },
   "outputs": [],
   "source": [
    "# capturing video or phott from webcamp\n",
    "videoIn = cv2.VideoCapture(0)\n",
    "count = 0\n",
    "\n",
    "while 1:\n",
    "    ret, frame_vga = videoIn.read() # read viedo campture by webcamp\n",
    "    \n",
    "    car_cascade = cv2.CascadeClassifier('./data/cars.xml') # caaling  car detect algorithm\n",
    "    gray = cv2.cvtColor(frame_vga, cv2.COLOR_BGR2GRAY) # convert in gray \n",
    "    \n",
    "    cars = car_cascade.detectMultiScale(gray, 1.3, 5) # detect the car \n",
    "    \n",
    "    # draw the area in detect the car\n",
    "    for x,y,w,h in cars:\n",
    "        cv2.rectangle(frame_vga,(x,y),(x+w,y+h),(255,0,0),2)\n",
    "        crop = frame_vga[y:y+h,x:x+w]\n",
    "        \n",
    "        count += 1\n",
    "        \n",
    "        cv2.putText(frame_vga,str(count),(x,y+h),font,1,(255,0,0),2,cv2.LINE_AA) # numbering the car\n",
    "        \n",
    "        plt.figure(figsize=(10,20))\n",
    "        plt.imshow(img)\n",
    "        \n",
    "        plt.show()\n",
    "        \n",
    "    "
   ]
  }
 ],
 "metadata": {
  "kernelspec": {
   "display_name": "Python 3",
   "language": "python",
   "name": "python3"
  },
  "language_info": {
   "codemirror_mode": {
    "name": "ipython",
    "version": 3
   },
   "file_extension": ".py",
   "mimetype": "text/x-python",
   "name": "python",
   "nbconvert_exporter": "python",
   "pygments_lexer": "ipython3",
   "version": "3.6.0"
  }
 },
 "nbformat": 4,
 "nbformat_minor": 2
}
